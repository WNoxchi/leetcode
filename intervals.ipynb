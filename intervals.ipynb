{
 "cells": [
  {
   "cell_type": "code",
   "execution_count": null,
   "metadata": {},
   "outputs": [],
   "source": [
    "#| default_exp intervals"
   ]
  },
  {
   "cell_type": "code",
   "execution_count": null,
   "metadata": {},
   "outputs": [],
   "source": [
    "#| hide\n",
    "from leetcode.core import *"
   ]
  },
  {
   "cell_type": "markdown",
   "metadata": {},
   "source": [
    "# Intervals"
   ]
  },
  {
   "cell_type": "markdown",
   "metadata": {},
   "source": [
    "### [57. Insert Interval](https://leetcode.com/problems/insert-interval/) M\n",
    "\n",
    "Comp O(N). Just a few quick checks: is new before, after, or: merge overlap.\n",
    "\n",
    "* loop:\n",
    "    * check new end < old[i] start: return new + old\n",
    "    * check new start > old[i] end: append old[i]\n",
    "    * check overlap: merge new + old[i]\n",
    "* append new and return\n"
   ]
  },
  {
   "cell_type": "code",
   "execution_count": null,
   "metadata": {},
   "outputs": [],
   "source": [
    "class Solution:\n",
    "    def insert(self, intervals: List[List[int]], newInterval: List[int]) -> List[List[int]]:\n",
    "        res = []\n",
    "\n",
    "        for i in range(len(intervals)):\n",
    "            # check new end < old[i] start\n",
    "            if newInterval[1] < intervals[i][0]:\n",
    "                res.append(newInterval)\n",
    "                return res + intervals[i:]\n",
    "            # check new start > old[i] end\n",
    "            elif newInterval[0] > intervals[i][1]:\n",
    "                res.append(intervals[i])\n",
    "            # check overlap\n",
    "            else:\n",
    "                newInterval = [min(newInterval[0],intervals[i][0]),\n",
    "                               max(newInterval[1],intervals[i][1])]\n",
    "\n",
    "        # append if new overlapped to end\n",
    "        res.append(newInterval)\n",
    "\n",
    "        return res\n",
    "        "
   ]
  }
 ],
 "metadata": {
  "kernelspec": {
   "display_name": "Python 3.9.10 ('base')",
   "language": "python",
   "name": "python3"
  }
 },
 "nbformat": 4,
 "nbformat_minor": 2
}
