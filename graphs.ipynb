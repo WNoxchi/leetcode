{
 "cells": [
  {
   "cell_type": "code",
   "execution_count": null,
   "metadata": {},
   "outputs": [],
   "source": [
    "#| default_exp graphs"
   ]
  },
  {
   "cell_type": "code",
   "execution_count": null,
   "metadata": {},
   "outputs": [],
   "source": [
    "#| hide\n",
    "from leetcode.core import *\n",
    "from typing import List\n",
    "import collections"
   ]
  },
  {
   "cell_type": "markdown",
   "metadata": {},
   "source": [
    "# Graphs"
   ]
  },
  {
   "cell_type": "markdown",
   "metadata": {},
   "source": [
    "### [200. Number of Islands](https://leetcode.com/problems/number-of-islands/) M\n",
    "\n",
    "Count number of islands in a grid.\n",
    "\n",
    "Iterative BFS. Set to track visited coords. Loop rows & cols: do nothing on water, if unvisited land, run BFS on coord, incr islands.\n",
    "\n",
    "BFS: \n",
    "* use queue (`collections.deque`) to track coords\n",
    "* mark coord visited\n",
    "* add coord to queue\n",
    "* while queue not empty expand island\n",
    "    * pop coord from queue (`popleft()`); (if `pop()`: pops right and does iterative DFS)\n",
    "    * create array of directions\n",
    "    * for each direction:\n",
    "        * check in bounds; check is land; check unvisited\n",
    "        * if all true: \n",
    "            * add coord to queue and run BFS on it\n",
    "            * mark coord visited\n"
   ]
  },
  {
   "cell_type": "code",
   "execution_count": null,
   "metadata": {},
   "outputs": [],
   "source": [
    "# import collections\n",
    "\n",
    "class Solution:\n",
    "    def numIslands(self, grid: List[List[str]]) -> int:\n",
    "        # BFS search\n",
    "        def bfs(r, c):\n",
    "            # create queue to hold coords to check\n",
    "            q = collections.deque()\n",
    "            visited.add((r,c))\n",
    "            q.append((r,c))\n",
    "            # while queue not empty: expand island\n",
    "            while q:\n",
    "                # pop coord from queue; create array of directions\n",
    "                row,col = q.popleft() # pop will pop right and do iterative DFS\n",
    "                dirs = [[1,0],[-1,0],[0,1],[0,-1]]\n",
    "\n",
    "                for dr, dc in dirs:\n",
    "                    r,c = row + dr, col + dc\n",
    "                    # check in bounds, check is land, check unvisted\n",
    "                    if (r in range(rows) and c in range(cols) and # rows, cols comes from upper state\n",
    "                        grid[r][c] == \"1\" and\n",
    "                        (r,c) not in visited):\n",
    "                        # if all true: add coord to queue to run BFS on it; mark coord visited\n",
    "                        q.append((r,c))\n",
    "                        visited.add((r,c))\n",
    "                        bfs(r,c)\n",
    "        \n",
    "        # return 0 if no grid\n",
    "        if not grid:\n",
    "            return 0\n",
    "        \n",
    "        rows,cols = len(grid), len(grid[0])\n",
    "        visited = set()\n",
    "        islands = 0\n",
    "        \n",
    "        for r in range(rows):\n",
    "            for c in range(cols):\n",
    "                # do nothing on water; if unvisited land: run BFS on coord, inc visited\n",
    "                if grid[r][c] == \"1\" and (r,c) not in visited:\n",
    "                    bfs(r,c)\n",
    "                    islands += 1\n",
    "        # return num islands\n",
    "        return islands\n",
    "        "
   ]
  },
  {
   "cell_type": "markdown",
   "metadata": {},
   "source": [
    "\n",
    "### [332. Reconstruct Itinerary](https://leetcode.com/problems/reconstruct-itinerary/) H\n",
    "\n",
    "DFS. comp O(E^2)\n",
    "\n",
    "* build sorted adjacency list\n",
    "* init history\n",
    "* DFS\n",
    "    * case found solution (len hst == len tickets + 1)\n",
    "    * case no path (src not in adjmap)\n",
    "    * recursive: enumerate over copy of adj sublist; modify adjmap -- loop(recur) pattern implements backtracking\n",
    "        * pop dst from adjmap, append to hst\n",
    "        * checkpath w/ dfs on dst node: if true: found, return\n",
    "        * otherwise undo action; loop continues to next candidate dst node\n",
    "    * no valid path found\n",
    "* run dfs on origin source node\n",
    "\n",
    "\n",
    "\n"
   ]
  },
  {
   "cell_type": "code",
   "execution_count": null,
   "metadata": {},
   "outputs": [],
   "source": [
    "class Solution:\n",
    "    def findItinerary(self, tickets: List[List[str]]) -> List[str]:\n",
    "\n",
    "        # build sorted adjacency list\n",
    "        tickets.sort()\n",
    "        adjmap = {src:[] for src,dst in tickets}\n",
    "        for src,dst in tickets:\n",
    "            adjmap[src].append(dst)\n",
    "\n",
    "        # init history\n",
    "        hst = ['JFK']\n",
    "\n",
    "        # DFS\n",
    "        def dfs(src):\n",
    "            # case found solution\n",
    "            if len(hst) == len(tickets) + 1: return True\n",
    "            # case no path\n",
    "            if src not in adjmap: return False\n",
    "            # recursive\n",
    "            # enuemrate over copy of adj sublist; modify adjmap\n",
    "            adjsublist = list(adjmap[src])\n",
    "            for i, dst in enumerate(adjsublist): # loop(recur) pattern implements backtracking\n",
    "                # pop dst from adjmap, append to hst\n",
    "                adjmap[src].pop(i)\n",
    "                hst.append(dst)\n",
    "                # checkpath w/ dfs on dst node: if true: found, return\n",
    "                if dfs(dst): return True\n",
    "                # otherwise undo action; loop continues to next candidate dst node\n",
    "                adjmap[src].insert(i, dst)\n",
    "                hst.pop()\n",
    "            # no valid path found\n",
    "            return False\n",
    "\n",
    "        # run dfs on origin source node\n",
    "        dfs('JFK')\n",
    "\n",
    "        return hst\n",
    "        "
   ]
  }
 ],
 "metadata": {
  "kernelspec": {
   "display_name": "Python 3.9.10 ('base')",
   "language": "python",
   "name": "python3"
  }
 },
 "nbformat": 4,
 "nbformat_minor": 2
}
