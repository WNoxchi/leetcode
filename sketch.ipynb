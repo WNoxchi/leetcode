{
 "cells": [
  {
   "cell_type": "code",
   "execution_count": null,
   "metadata": {},
   "outputs": [
    {
     "name": "stdout",
     "output_type": "stream",
     "text": [
      "7\n",
      "2\n",
      "FOUND: (0, 1): 2 + 7 = 9\n",
      "-2\n",
      "-6\n"
     ]
    }
   ],
   "source": [
    "nums = [2,7,11,15]\n",
    "targ = 9\n",
    "\n",
    "comps = {}\n",
    "for i,n in enumerate(nums):\n",
    "    comp = (targ - n)\n",
    "    print(comp)\n",
    "    if n in comps:\n",
    "        print(f'FOUND: {comps[n],i}: {comp} + {n} = {targ}')\n",
    "    comps[comp] = i"
   ]
  }
 ],
 "metadata": {
  "kernelspec": {
   "display_name": "Python 3.8.9 64-bit",
   "language": "python",
   "name": "python3"
  }
 },
 "nbformat": 4,
 "nbformat_minor": 2
}
