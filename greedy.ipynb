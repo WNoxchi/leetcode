{
 "cells": [
  {
   "cell_type": "code",
   "execution_count": null,
   "metadata": {},
   "outputs": [],
   "source": [
    "#| default_exp greedy"
   ]
  },
  {
   "cell_type": "markdown",
   "metadata": {},
   "source": [
    "# Greedy"
   ]
  },
  {
   "cell_type": "markdown",
   "metadata": {},
   "source": [
    "### [53. Maxmimum Subarray](https://leetcode.com/problems/maximum-subarray/) M\n",
    "\n",
    "Update a running sum and reset it when it becomes negative. Update max each loop.\n"
   ]
  },
  {
   "cell_type": "code",
   "execution_count": null,
   "metadata": {},
   "outputs": [],
   "source": [
    "class Solution:\n",
    "    def maxSubArray(self, nums: List[int]) -> int:\n",
    "        sm = nums[0] # max sum\n",
    "        sr = 0       # running sum\n",
    "        \n",
    "        for n in nums:\n",
    "            if sr < 0: sr = 0 # reset running sum if it cant contribute\n",
    "            sr += n           # update running sum\n",
    "            sm = max(sr, sm)  # update max\n",
    "        \n",
    "        return sm\n"
   ]
  }
 ],
 "metadata": {
  "kernelspec": {
   "display_name": "Python 3.9.10 ('base')",
   "language": "python",
   "name": "python3"
  }
 },
 "nbformat": 4,
 "nbformat_minor": 2
}
