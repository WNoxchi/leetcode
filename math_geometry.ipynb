{
 "cells": [
  {
   "cell_type": "code",
   "execution_count": null,
   "metadata": {},
   "outputs": [],
   "source": [
    "#| default_exp math_geometry"
   ]
  },
  {
   "cell_type": "code",
   "execution_count": null,
   "metadata": {},
   "outputs": [],
   "source": [
    "#| hide\n",
    "from leetcode.core import *"
   ]
  },
  {
   "cell_type": "markdown",
   "metadata": {},
   "source": [
    "# Mathematics and Geometry"
   ]
  },
  {
   "cell_type": "markdown",
   "metadata": {},
   "source": [
    "### [48. Rotate Image](https://leetcode.com/problems/rotate-image/) M\n",
    "\n",
    "comp O(N^2) - matrix size: N^2\n",
    "\n",
    "Track 4 pointers: left,right,top,bottom. While loop to control depth, forloop controls rotation. Use forloop's index to specify alternating coordinate offset. Start rotation by storing first value, then swap values in opposite order of rotation (CCW for CW rot)."
   ]
  },
  {
   "cell_type": "code",
   "execution_count": null,
   "metadata": {},
   "outputs": [],
   "source": [
    "class Solution:\n",
    "    def rotate(self, matrix: List[List[int]]) -> None:\n",
    "        \"\"\"\n",
    "        Do not return anything, modify matrix in-place instead.\n",
    "        \"\"\"\n",
    "        # set l,r bounds\n",
    "        l,r = 0, len(matrix) - 1\n",
    "\n",
    "        while l < r:\n",
    "            for i in range(r-l):\n",
    "                t,b = l,r\n",
    "                # save top left\n",
    "                tl = matrix[t][l+i]\n",
    "                # move bottom left → top left\n",
    "                matrix[t][l+i] = matrix[b-i][l]\n",
    "                # move bottom right → bottom left\n",
    "                matrix[b-i][l] = matrix[b][r-i]\n",
    "                # move top right → bottom right\n",
    "                matrix[b][r-i] = matrix[t+i][r]\n",
    "                # move top left save → top right\n",
    "                matrix[t+i][r] = tl\n",
    "            # increment depth\n",
    "            l += 1\n",
    "            r -= 1\n",
    "            "
   ]
  }
 ],
 "metadata": {
  "kernelspec": {
   "display_name": "Python 3.9.10 ('base')",
   "language": "python",
   "name": "python3"
  }
 },
 "nbformat": 4,
 "nbformat_minor": 2
}
