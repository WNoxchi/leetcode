{
 "cells": [
  {
   "cell_type": "code",
   "execution_count": null,
   "metadata": {},
   "outputs": [],
   "source": [
    "#| default_exp heaps_queues"
   ]
  },
  {
   "cell_type": "markdown",
   "metadata": {},
   "source": [
    "# Heaps and Queues"
   ]
  },
  {
   "cell_type": "markdown",
   "metadata": {},
   "source": [
    "### [703. Kth Largest Element in a Stream](https://leetcode.com/problems/kth-largest-element-in-a-stream/) E\n",
    "\n",
    "Use `heapq` to implement a min heap priority queue.\n",
    "\n",
    "Problem is monotomic: numbers are only added, and the class is supposed to return the updated kth largest element. Therefore: \n",
    "\n",
    "* maintain a minheap of the k largest numbers:\n",
    "    * on init: \n",
    "        * build the minheap from the input array (`heapify`).\n",
    "        * remove the minimum (`heappop`) until heap size is k\n",
    "    * on add: \n",
    "        * add the new number to the minheap (`heappush`). Internal heap property will take care of the details.\n",
    "        * remove the minimum (`heappop`) until heap size is k\n",
    "        * return minimum (`[0]`)\n",
    "\n",
    "**Note**: `heapq.heapify` modifies an existing array and returns nothing.\n",
    "\n",
    "Complexity:\n",
    "\n",
    "* computational: O(NlogN)\n",
    "> N, logN add operations.\n",
    "\n"
   ]
  },
  {
   "cell_type": "code",
   "execution_count": null,
   "metadata": {},
   "outputs": [],
   "source": [
    "# import heapq\n",
    "\n",
    "class KthLargest:\n",
    "    def __init__(self, k: int, nums: List[int]):\n",
    "        self.k = k\n",
    "        # initialize queue\n",
    "        self.minheap = nums\n",
    "        heapq.heapify(self.minheap)\n",
    "        # correct queue size\n",
    "        while len(self.minheap) > self.k:\n",
    "            heapq.heappop(self.minheap)\n",
    "\n",
    "    def add(self, val: int) -> int:\n",
    "        heapq.heappush(self.minheap, val)\n",
    "        while len(self.minheap) > self.k:\n",
    "            heapq.heappop(self.minheap)\n",
    "        # return updated kth largest element\n",
    "        return self.minheap[0]\n"
   ]
  }
 ],
 "metadata": {
  "kernelspec": {
   "display_name": "Python 3.9.10 ('base')",
   "language": "python",
   "name": "python3"
  }
 },
 "nbformat": 4,
 "nbformat_minor": 2
}
