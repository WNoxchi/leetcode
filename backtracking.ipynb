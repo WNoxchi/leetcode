{
 "cells": [
  {
   "cell_type": "code",
   "execution_count": null,
   "metadata": {},
   "outputs": [],
   "source": [
    "# default_exp backtracking"
   ]
  },
  {
   "cell_type": "code",
   "execution_count": null,
   "metadata": {},
   "outputs": [],
   "source": [
    "#| hide\n",
    "from leetcode.core import *"
   ]
  },
  {
   "cell_type": "markdown",
   "metadata": {},
   "source": [
    "# Backtracking"
   ]
  },
  {
   "cell_type": "markdown",
   "metadata": {},
   "source": [
    "### [78. Subsets](https://leetcode.com/problems/subsets/) M\n",
    "\n",
    "Recursive DFS tree. left branch: append indexed value, right branch: pass. End recursive call when index ≥ input length.\n",
    "\n",
    "Update return array in end case w/ copy of working array (to avoid modifying its state among different branches).\n",
    "\n",
    "Computational complexity: N•2^N\n"
   ]
  },
  {
   "cell_type": "code",
   "execution_count": null,
   "metadata": {},
   "outputs": [],
   "source": [
    "class Solution:\n",
    "    def subsets(self, nums: List[int]) -> List[List[int]]:\n",
    "        \n",
    "        powerset = [] # return array\n",
    "        subset = []   # working array\n",
    "        \n",
    "        def dfs(i):\n",
    "            # end state\n",
    "            if i >= len(nums):\n",
    "                powerset.append(subset.copy())\n",
    "                return\n",
    "            \n",
    "            # left branch (add)\n",
    "            subset.append(nums[i])\n",
    "            dfs(i+1)\n",
    "            \n",
    "            # right branch (pass)\n",
    "            subset.pop() # remove value added for left branch\n",
    "            dfs(i+1)\n",
    "            \n",
    "        dfs(0)\n",
    "        return powerset\n",
    "        "
   ]
  }
 ],
 "metadata": {
  "kernelspec": {
   "display_name": "Python 3.9.10 ('base')",
   "language": "python",
   "name": "python3"
  }
 },
 "nbformat": 4,
 "nbformat_minor": 2
}
